{
 "cells": [
  {
   "cell_type": "code",
   "execution_count": 1,
   "metadata": {},
   "outputs": [],
   "source": [
    "# Load data\n",
    "import iso639\n",
    "import pandas as pd\n",
    "\n",
    "df = pd.read_csv('DOAJ_metadata_20200703_0835_utf8.csv')"
   ]
  },
  {
   "cell_type": "code",
   "execution_count": 4,
   "metadata": {},
   "outputs": [],
   "source": [
    "# Build set / dict\n",
    "doaj_lang_set = set()\n",
    "doaj_lang_counts = dict()\n",
    "doaj_lang_counts_no_en_secnd = dict()\n",
    "doaj_lang_count_total = 0\n",
    "doaj_lang_count_total_no_en_secnd = 0\n",
    "for lang_str in df['Full text language'].to_list():\n",
    "    if type(lang_str) != str:\n",
    "        continue\n",
    "    lang_str = lang_str.replace('Modern Greek (1453-)', 'Greek')  # Greek fix\n",
    "    lang_str = lang_str.replace(' (macrolanguage)', '')  # Swahili, Malay, Nepali fix\n",
    "    lang_list = lang_str.split(',')\n",
    "    lang_set_curr = set([l.strip().lower() for l in lang_list])  # Capitalization inconsistent\n",
    "    doaj_lang_set = doaj_lang_set.union(lang_set_curr)\n",
    "    # count English always\n",
    "    for lang in lang_set_curr:\n",
    "        if lang not in doaj_lang_counts:\n",
    "            doaj_lang_counts[lang] = 0\n",
    "        doaj_lang_counts[lang] += 1\n",
    "        doaj_lang_count_total += 1\n",
    "    # only count English if it's not an additional language\n",
    "    if len(lang_set_curr) > 1 and 'english' in lang_set_curr:\n",
    "        lang_set_curr.remove('english')\n",
    "    for lang in lang_set_curr:\n",
    "        if lang not in doaj_lang_counts_no_en_secnd:\n",
    "            doaj_lang_counts_no_en_secnd[lang] = 0\n",
    "        doaj_lang_counts_no_en_secnd[lang] += 1\n",
    "        doaj_lang_count_total_no_en_secnd += 1"
   ]
  },
  {
   "cell_type": "code",
   "execution_count": 5,
   "metadata": {},
   "outputs": [
    {
     "name": "stdout",
     "output_type": "stream",
     "text": [
      "serbo-croatian\n"
     ]
    }
   ],
   "source": [
    "# Convert to language codes\n",
    "cited_codes = set(['be', 'bg', 'ca', 'cs', 'da', 'de', 'el', 'en', 'eo', 'es', 'et', 'fa', 'fi', 'fr', 'he', 'hi', 'hr', 'hu', 'hy', 'id', 'is', 'it', 'ja', 'ka', 'ko', 'la', 'lv', 'mk', 'mr', 'nl', 'no', 'pl', 'pt', 'ro', 'ru', 'sa', 'sk', 'sl', 'sr', 'sv', 'tr', 'uk', 'vi', 'zh'])\n",
    "\n",
    "doaj_codes = set()\n",
    "for lang in doaj_lang_set:\n",
    "    try:\n",
    "        doaj_codes.add(iso639.to_iso639_1(lang))\n",
    "    except iso639.NonExistentLanguageError:\n",
    "        print(lang)"
   ]
  },
  {
   "cell_type": "code",
   "execution_count": 6,
   "metadata": {},
   "outputs": [
    {
     "name": "stdout",
     "output_type": "stream",
     "text": [
      "DOAJ langs: 78\n",
      "DOAJ langs w/ iso639 code: 77\n",
      "cited langs: 44\n",
      "Intersection: 43\n",
      "Difference: {'mr'}\n",
      "43/78 = 55.13%\n"
     ]
    }
   ],
   "source": [
    "# Language coverage\n",
    "print('DOAJ langs: {}'.format(len(doaj_lang_set)))\n",
    "print('DOAJ langs w/ iso639 code: {}'.format(len(doaj_codes)))\n",
    "print('cited langs: {}'.format(len(cited_codes)))\n",
    "print('Intersection: {}'.format(len(cited_codes.intersection(doaj_codes))))\n",
    "print('Difference: {}'.format(cited_codes.difference(doaj_codes)))\n",
    "print('{}/{} = {:.2f}%'.format(\n",
    "    len(cited_codes.intersection(doaj_codes)),\n",
    "    len(doaj_lang_set),\n",
    "    (len(cited_codes.intersection(doaj_codes)) / len(doaj_lang_set)) * 100\n",
    "))"
   ]
  },
  {
   "cell_type": "code",
   "execution_count": 7,
   "metadata": {},
   "outputs": [
    {
     "name": "stdout",
     "output_type": "stream",
     "text": [
      "22412/22861 = 98.04%\n"
     ]
    }
   ],
   "source": [
    "# Weighted language coverage\n",
    "covered_count = 0\n",
    "for lang, count in doaj_lang_counts.items():\n",
    "    try:\n",
    "        code = iso639.to_iso639_1(lang)\n",
    "    except iso639.NonExistentLanguageError:\n",
    "        continue\n",
    "    if code in cited_codes:\n",
    "        covered_count += count\n",
    "print('{}/{} = {:.2f}%'.format(\n",
    "    covered_count,\n",
    "    doaj_lang_count_total,\n",
    "    (covered_count / doaj_lang_count_total) * 100\n",
    "))"
   ]
  },
  {
   "cell_type": "code",
   "execution_count": 8,
   "metadata": {},
   "outputs": [
    {
     "name": "stdout",
     "output_type": "stream",
     "text": [
      "17790/18239 = 97.54%\n"
     ]
    }
   ],
   "source": [
    "# Weighted language coverage (English not counted when additional language)\n",
    "covered_count_ne = 0\n",
    "for lang, count in doaj_lang_counts_no_en_secnd.items():\n",
    "    try:\n",
    "        code = iso639.to_iso639_1(lang)\n",
    "    except iso639.NonExistentLanguageError:\n",
    "        continue\n",
    "    if code in cited_codes:\n",
    "        covered_count_ne += count\n",
    "print('{}/{} = {:.2f}%'.format(\n",
    "    covered_count_ne,\n",
    "    doaj_lang_count_total_no_en_secnd,\n",
    "    (covered_count_ne / doaj_lang_count_total_no_en_secnd) * 100\n",
    "))"
   ]
  },
  {
   "cell_type": "code",
   "execution_count": 46,
   "metadata": {},
   "outputs": [
    {
     "name": "stdout",
     "output_type": "stream",
     "text": [
      "Modern Greek (1453-)\n",
      "English, French, German, Modern Greek (1453-), Italian\n",
      "English, Modern Greek (1453-), Latin, Slovenian\n",
      "English, Modern Greek (1453-)\n",
      "Albanian, Bulgarian, Catalan, Croatian, Czech, Dutch, English, Estonian, Finnish, French, Galician, German, Modern Greek (1453-), Hungarian, Italian, Lithuanian, Macedonian, Maltese, Polish, Portuguese, Romanian, Russian, Serbian, Slovak, Slovenian, Spanish, Swedish, Turkish, Ukrainian\n",
      "English, French, Modern Greek (1453-), Russian\n",
      "English, French, German, Italian, Modern Greek (1453-)\n",
      "English, French, German, Modern Greek (1453-)\n",
      "English, French, Modern Greek (1453-)\n",
      "Modern Greek (1453-), Italian\n"
     ]
    }
   ],
   "source": [
    "for lang in df['Full text language'].unique():\n",
    "    if type(lang) == float:\n",
    "        continue\n",
    "    if 'greek' in lang.lower():\n",
    "        print(lang)"
   ]
  }
 ],
 "metadata": {
  "kernelspec": {
   "display_name": "Python 3",
   "language": "python",
   "name": "python3"
  },
  "language_info": {
   "codemirror_mode": {
    "name": "ipython",
    "version": 3
   },
   "file_extension": ".py",
   "mimetype": "text/x-python",
   "name": "python",
   "nbconvert_exporter": "python",
   "pygments_lexer": "ipython3",
   "version": "3.6.9"
  }
 },
 "nbformat": 4,
 "nbformat_minor": 4
}
